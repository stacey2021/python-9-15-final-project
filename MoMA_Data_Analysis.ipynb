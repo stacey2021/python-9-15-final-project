{
 "cells": [
  {
   "cell_type": "markdown",
   "metadata": {},
   "source": [
    "### Introduction\n"
   ]
  },
  {
   "cell_type": "markdown",
   "metadata": {},
   "source": [
    "My project would review Museum of Modern Art(MoMa) artwork collections data. Two data sets have been pulled directly from this website:https://www.kaggle.com/momanyc/museum-collection. The first data set contains basic information for each artwork, includes title, artist, department, etc. The second data set contains artist information, includes artist name, nationality, gender, etc.\n",
    "I would like to group the artwork collection data by department, by acquisition date and by the related artist gender & artist nationality. "
   ]
  },
  {
   "cell_type": "markdown",
   "metadata": {},
   "source": [
    "### Libraries"
   ]
  },
  {
   "cell_type": "code",
   "execution_count": 2,
   "metadata": {},
   "outputs": [],
   "source": [
    "import pandas as pd\n",
    "import matplotlib.pyplot as plt\n",
    "import seaborn as sns"
   ]
  },
  {
   "cell_type": "markdown",
   "metadata": {},
   "source": [
    "### Data Import"
   ]
  },
  {
   "cell_type": "code",
   "execution_count": 3,
   "metadata": {},
   "outputs": [],
   "source": [
    "#import artwork collection data\n",
    "artworks= pd.read_csv('artworks.csv')"
   ]
  },
  {
   "cell_type": "code",
   "execution_count": 4,
   "metadata": {},
   "outputs": [],
   "source": [
    "#import artist data\n",
    "artists= pd.read_csv('artists.csv')"
   ]
  },
  {
   "cell_type": "code",
   "execution_count": 5,
   "metadata": {
    "collapsed": true
   },
   "outputs": [
    {
     "data": {
      "text/html": [
       "<div>\n",
       "<style scoped>\n",
       "    .dataframe tbody tr th:only-of-type {\n",
       "        vertical-align: middle;\n",
       "    }\n",
       "\n",
       "    .dataframe tbody tr th {\n",
       "        vertical-align: top;\n",
       "    }\n",
       "\n",
       "    .dataframe thead th {\n",
       "        text-align: right;\n",
       "    }\n",
       "</style>\n",
       "<table border=\"1\" class=\"dataframe\">\n",
       "  <thead>\n",
       "    <tr style=\"text-align: right;\">\n",
       "      <th></th>\n",
       "      <th>Artwork ID</th>\n",
       "      <th>Title</th>\n",
       "      <th>Artist ID</th>\n",
       "      <th>Name</th>\n",
       "      <th>Date</th>\n",
       "      <th>Medium</th>\n",
       "      <th>Dimensions</th>\n",
       "      <th>Acquisition Date</th>\n",
       "      <th>Credit</th>\n",
       "      <th>Catalogue</th>\n",
       "      <th>...</th>\n",
       "      <th>Classification</th>\n",
       "      <th>Object Number</th>\n",
       "      <th>Diameter (cm)</th>\n",
       "      <th>Circumference (cm)</th>\n",
       "      <th>Height (cm)</th>\n",
       "      <th>Length (cm)</th>\n",
       "      <th>Width (cm)</th>\n",
       "      <th>Depth (cm)</th>\n",
       "      <th>Weight (kg)</th>\n",
       "      <th>Duration (s)</th>\n",
       "    </tr>\n",
       "  </thead>\n",
       "  <tbody>\n",
       "    <tr>\n",
       "      <td>0</td>\n",
       "      <td>2</td>\n",
       "      <td>Ferdinandsbrücke Project, Vienna, Austria, Ele...</td>\n",
       "      <td>6210</td>\n",
       "      <td>Otto Wagner</td>\n",
       "      <td>1896</td>\n",
       "      <td>Ink and cut-and-pasted painted pages on paper</td>\n",
       "      <td>19 1/8 x 66 1/2\" (48.6 x 168.9 cm)</td>\n",
       "      <td>1996-04-09</td>\n",
       "      <td>Fractional and promised gift of Jo Carole and ...</td>\n",
       "      <td>Y</td>\n",
       "      <td>...</td>\n",
       "      <td>Architecture</td>\n",
       "      <td>885.1996</td>\n",
       "      <td>NaN</td>\n",
       "      <td>NaN</td>\n",
       "      <td>48.6000</td>\n",
       "      <td>NaN</td>\n",
       "      <td>168.9000</td>\n",
       "      <td>NaN</td>\n",
       "      <td>NaN</td>\n",
       "      <td>NaN</td>\n",
       "    </tr>\n",
       "    <tr>\n",
       "      <td>1</td>\n",
       "      <td>3</td>\n",
       "      <td>City of Music, National Superior Conservatory ...</td>\n",
       "      <td>7470</td>\n",
       "      <td>Christian de Portzamparc</td>\n",
       "      <td>1987</td>\n",
       "      <td>Paint and colored pencil on print</td>\n",
       "      <td>16 x 11 3/4\" (40.6 x 29.8 cm)</td>\n",
       "      <td>1995-01-17</td>\n",
       "      <td>Gift of the architect in honor of Lily Auchinc...</td>\n",
       "      <td>Y</td>\n",
       "      <td>...</td>\n",
       "      <td>Architecture</td>\n",
       "      <td>1.1995</td>\n",
       "      <td>NaN</td>\n",
       "      <td>NaN</td>\n",
       "      <td>40.6401</td>\n",
       "      <td>NaN</td>\n",
       "      <td>29.8451</td>\n",
       "      <td>NaN</td>\n",
       "      <td>NaN</td>\n",
       "      <td>NaN</td>\n",
       "    </tr>\n",
       "  </tbody>\n",
       "</table>\n",
       "<p>2 rows × 21 columns</p>\n",
       "</div>"
      ],
      "text/plain": [
       "   Artwork ID                                              Title Artist ID  \\\n",
       "0           2  Ferdinandsbrücke Project, Vienna, Austria, Ele...      6210   \n",
       "1           3  City of Music, National Superior Conservatory ...      7470   \n",
       "\n",
       "                       Name  Date  \\\n",
       "0               Otto Wagner  1896   \n",
       "1  Christian de Portzamparc  1987   \n",
       "\n",
       "                                          Medium  \\\n",
       "0  Ink and cut-and-pasted painted pages on paper   \n",
       "1              Paint and colored pencil on print   \n",
       "\n",
       "                           Dimensions Acquisition Date  \\\n",
       "0  19 1/8 x 66 1/2\" (48.6 x 168.9 cm)       1996-04-09   \n",
       "1       16 x 11 3/4\" (40.6 x 29.8 cm)       1995-01-17   \n",
       "\n",
       "                                              Credit Catalogue  ...  \\\n",
       "0  Fractional and promised gift of Jo Carole and ...         Y  ...   \n",
       "1  Gift of the architect in honor of Lily Auchinc...         Y  ...   \n",
       "\n",
       "  Classification Object Number Diameter (cm)  Circumference (cm)  Height (cm)  \\\n",
       "0   Architecture      885.1996           NaN                 NaN      48.6000   \n",
       "1   Architecture        1.1995           NaN                 NaN      40.6401   \n",
       "\n",
       "   Length (cm)  Width (cm)  Depth (cm)  Weight (kg)  Duration (s)  \n",
       "0          NaN    168.9000         NaN          NaN           NaN  \n",
       "1          NaN     29.8451         NaN          NaN           NaN  \n",
       "\n",
       "[2 rows x 21 columns]"
      ]
     },
     "execution_count": 5,
     "metadata": {},
     "output_type": "execute_result"
    }
   ],
   "source": [
    "artworks.head(2)"
   ]
  },
  {
   "cell_type": "code",
   "execution_count": 6,
   "metadata": {
    "collapsed": true
   },
   "outputs": [
    {
     "data": {
      "text/html": [
       "<div>\n",
       "<style scoped>\n",
       "    .dataframe tbody tr th:only-of-type {\n",
       "        vertical-align: middle;\n",
       "    }\n",
       "\n",
       "    .dataframe tbody tr th {\n",
       "        vertical-align: top;\n",
       "    }\n",
       "\n",
       "    .dataframe thead th {\n",
       "        text-align: right;\n",
       "    }\n",
       "</style>\n",
       "<table border=\"1\" class=\"dataframe\">\n",
       "  <thead>\n",
       "    <tr style=\"text-align: right;\">\n",
       "      <th></th>\n",
       "      <th>Artist ID</th>\n",
       "      <th>Name</th>\n",
       "      <th>Nationality</th>\n",
       "      <th>Gender</th>\n",
       "      <th>Birth Year</th>\n",
       "      <th>Death Year</th>\n",
       "    </tr>\n",
       "  </thead>\n",
       "  <tbody>\n",
       "    <tr>\n",
       "      <td>0</td>\n",
       "      <td>1</td>\n",
       "      <td>Robert Arneson</td>\n",
       "      <td>American</td>\n",
       "      <td>Male</td>\n",
       "      <td>1930.0</td>\n",
       "      <td>1992.0</td>\n",
       "    </tr>\n",
       "    <tr>\n",
       "      <td>1</td>\n",
       "      <td>2</td>\n",
       "      <td>Doroteo Arnaiz</td>\n",
       "      <td>Spanish</td>\n",
       "      <td>Male</td>\n",
       "      <td>1936.0</td>\n",
       "      <td>NaN</td>\n",
       "    </tr>\n",
       "  </tbody>\n",
       "</table>\n",
       "</div>"
      ],
      "text/plain": [
       "   Artist ID            Name Nationality Gender  Birth Year  Death Year\n",
       "0          1  Robert Arneson    American   Male      1930.0      1992.0\n",
       "1          2  Doroteo Arnaiz     Spanish   Male      1936.0         NaN"
      ]
     },
     "execution_count": 6,
     "metadata": {},
     "output_type": "execute_result"
    }
   ],
   "source": [
    "artists.head(2)"
   ]
  },
  {
   "cell_type": "code",
   "execution_count": 8,
   "metadata": {
    "collapsed": true
   },
   "outputs": [
    {
     "name": "stdout",
     "output_type": "stream",
     "text": [
      "<class 'pandas.core.frame.DataFrame'>\n",
      "RangeIndex: 130262 entries, 0 to 130261\n",
      "Data columns (total 21 columns):\n",
      "Artwork_ID            130262 non-null int64\n",
      "Title                 130210 non-null object\n",
      "Artist_ID             128802 non-null object\n",
      "Name                  128802 non-null object\n",
      "Date                  127950 non-null object\n",
      "Medium                118343 non-null object\n",
      "Dimensions            118799 non-null object\n",
      "Acquisition_Date      124799 non-null object\n",
      "Credit                127192 non-null object\n",
      "Catalogue             130262 non-null object\n",
      "Department            130262 non-null object\n",
      "Classification        130262 non-null object\n",
      "Object Number         130262 non-null object\n",
      "Diameter (cm)         1399 non-null float64\n",
      "Circumference (cm)    10 non-null float64\n",
      "Height (cm)           111893 non-null float64\n",
      "Length (cm)           736 non-null float64\n",
      "Width (cm)            111003 non-null float64\n",
      "Depth (cm)            11443 non-null float64\n",
      "Weight (kg)           298 non-null float64\n",
      "Duration (s)          3084 non-null float64\n",
      "dtypes: float64(8), int64(1), object(12)\n",
      "memory usage: 20.9+ MB\n"
     ]
    }
   ],
   "source": [
    "artworks.info() #Artist ID -- object data type"
   ]
  },
  {
   "cell_type": "code",
   "execution_count": 10,
   "metadata": {
    "collapsed": true
   },
   "outputs": [
    {
     "name": "stdout",
     "output_type": "stream",
     "text": [
      "<class 'pandas.core.frame.DataFrame'>\n",
      "RangeIndex: 15091 entries, 0 to 15090\n",
      "Data columns (total 6 columns):\n",
      "Artist ID      15091 non-null int64\n",
      "Name           15091 non-null object\n",
      "Nationality    12603 non-null object\n",
      "Gender         12019 non-null object\n",
      "Birth Year     11237 non-null float64\n",
      "Death Year     4579 non-null float64\n",
      "dtypes: float64(2), int64(1), object(3)\n",
      "memory usage: 707.5+ KB\n"
     ]
    }
   ],
   "source": [
    "artists.info() #Artist ID -- int data type"
   ]
  },
  {
   "cell_type": "markdown",
   "metadata": {},
   "source": [
    "### Data Cleaning"
   ]
  },
  {
   "cell_type": "markdown",
   "metadata": {},
   "source": [
    "artworks dateframe data cleaning"
   ]
  },
  {
   "cell_type": "code",
   "execution_count": 7,
   "metadata": {},
   "outputs": [],
   "source": [
    "#rename some columns before merge two data sets\n",
    "artworks.rename(columns={'Artwork ID': 'Artwork_ID', 'Artist ID': 'Artist_ID', 'Acquisition Date': 'Acquisition_Date'}, inplace=True)"
   ]
  },
  {
   "cell_type": "code",
   "execution_count": 8,
   "metadata": {},
   "outputs": [],
   "source": [
    "#change the data type before merge two data sets\n",
    "artworks['Artwork_ID'] = pd.to_numeric(artworks['Artwork_ID'], errors='coerce')\n",
    "artworks['Artist_ID'] = pd.to_numeric(artworks['Artist_ID'], errors='coerce')\n",
    "artworks['Acquisition_Date'] = pd.to_datetime(artworks['Acquisition_Date'], errors='coerce')"
   ]
  },
  {
   "cell_type": "code",
   "execution_count": 9,
   "metadata": {},
   "outputs": [
    {
     "data": {
      "text/plain": [
       "array(['1896', '1987', '1903', ..., 'September 8, 1962', '1954–1956',\n",
       "       '1955–1967'], dtype=object)"
      ]
     },
     "execution_count": 9,
     "metadata": {},
     "output_type": "execute_result"
    }
   ],
   "source": [
    "#clean the date column\n",
    "artworks.Date.unique()"
   ]
  },
  {
   "cell_type": "code",
   "execution_count": 10,
   "metadata": {},
   "outputs": [],
   "source": [
    "# clean_date function: extra last 4 characters of a string\n",
    "def clean_date(x):\n",
    "    return x[-4:]"
   ]
  },
  {
   "cell_type": "code",
   "execution_count": 11,
   "metadata": {},
   "outputs": [
    {
     "data": {
      "text/plain": [
       "'date'"
      ]
     },
     "execution_count": 11,
     "metadata": {},
     "output_type": "execute_result"
    }
   ],
   "source": [
    "#check if clean_date func works or not\n",
    "clean_date('cleandate')"
   ]
  },
  {
   "cell_type": "code",
   "execution_count": 12,
   "metadata": {},
   "outputs": [],
   "source": [
    "#add clean_date column, and covert all date to string data type\n",
    "artworks['Clean_Date'] = artworks['Date'].astype(str)"
   ]
  },
  {
   "cell_type": "code",
   "execution_count": 13,
   "metadata": {},
   "outputs": [],
   "source": [
    "#apply clean_date func to extra last 4 characters of date\n",
    "artworks['Clean_Date']= artworks['Clean_Date'].apply(clean_date)"
   ]
  },
  {
   "cell_type": "markdown",
   "metadata": {},
   "source": [
    "artist dateframe data cleaning"
   ]
  },
  {
   "cell_type": "code",
   "execution_count": 14,
   "metadata": {},
   "outputs": [],
   "source": [
    "#rename some columns before merge two data sets\n",
    "artists.rename(columns={'Artist ID': 'Artist_ID', 'Birth Year': 'Birth_Year', 'Death Year': 'Death_Year'}, inplace=True)"
   ]
  },
  {
   "cell_type": "code",
   "execution_count": 15,
   "metadata": {},
   "outputs": [],
   "source": [
    "#change the data type before merge two data sets\n",
    "artists['Birth_Year'] = pd.to_datetime(artists['Birth_Year'], errors='coerce')\n",
    "artists['Death_Year'] = pd.to_datetime(artists['Death_Year'], errors='coerce')"
   ]
  },
  {
   "cell_type": "code",
   "execution_count": 18,
   "metadata": {},
   "outputs": [
    {
     "data": {
      "text/plain": [
       "array(['Male', 'Female', 'Unknown Gender', 'male'], dtype=object)"
      ]
     },
     "execution_count": 18,
     "metadata": {},
     "output_type": "execute_result"
    }
   ],
   "source": [
    "#clean Gender column\n",
    "artists.Gender.unique()"
   ]
  },
  {
   "cell_type": "code",
   "execution_count": 19,
   "metadata": {},
   "outputs": [],
   "source": [
    "#fillna as 'Unknown Gender'\n",
    "artists[\"Gender\"].fillna(\"Unknown Gender\", inplace = True)"
   ]
  },
  {
   "cell_type": "code",
   "execution_count": 20,
   "metadata": {},
   "outputs": [],
   "source": [
    "#captalize the first character\n",
    "artists['Gender'] = artists['Gender'].apply(lambda x: x.capitalize())"
   ]
  },
  {
   "cell_type": "code",
   "execution_count": 21,
   "metadata": {},
   "outputs": [
    {
     "data": {
      "text/plain": [
       "array(['Male', 'Female', 'Unknown gender'], dtype=object)"
      ]
     },
     "execution_count": 21,
     "metadata": {},
     "output_type": "execute_result"
    }
   ],
   "source": [
    "artists.Gender.unique()"
   ]
  },
  {
   "cell_type": "markdown",
   "metadata": {},
   "source": [
    "### Merge Datasets"
   ]
  },
  {
   "cell_type": "code",
   "execution_count": 23,
   "metadata": {},
   "outputs": [],
   "source": [
    "# merge artwork dataframe and artist dataframe based on Artist_ID\n",
    "df = pd.merge(artworks, artists, on = 'Artist_ID', how = 'left')"
   ]
  },
  {
   "cell_type": "code",
   "execution_count": 24,
   "metadata": {
    "collapsed": true
   },
   "outputs": [
    {
     "data": {
      "text/html": [
       "<div>\n",
       "<style scoped>\n",
       "    .dataframe tbody tr th:only-of-type {\n",
       "        vertical-align: middle;\n",
       "    }\n",
       "\n",
       "    .dataframe tbody tr th {\n",
       "        vertical-align: top;\n",
       "    }\n",
       "\n",
       "    .dataframe thead th {\n",
       "        text-align: right;\n",
       "    }\n",
       "</style>\n",
       "<table border=\"1\" class=\"dataframe\">\n",
       "  <thead>\n",
       "    <tr style=\"text-align: right;\">\n",
       "      <th></th>\n",
       "      <th>Artwork_ID</th>\n",
       "      <th>Title</th>\n",
       "      <th>Artist_ID</th>\n",
       "      <th>Name_x</th>\n",
       "      <th>Date</th>\n",
       "      <th>Medium</th>\n",
       "      <th>Dimensions</th>\n",
       "      <th>Acquisition_Date</th>\n",
       "      <th>Credit</th>\n",
       "      <th>Catalogue</th>\n",
       "      <th>...</th>\n",
       "      <th>Width (cm)</th>\n",
       "      <th>Depth (cm)</th>\n",
       "      <th>Weight (kg)</th>\n",
       "      <th>Duration (s)</th>\n",
       "      <th>Clean_Date</th>\n",
       "      <th>Name_y</th>\n",
       "      <th>Nationality</th>\n",
       "      <th>Gender</th>\n",
       "      <th>Birth_Year</th>\n",
       "      <th>Death_Year</th>\n",
       "    </tr>\n",
       "  </thead>\n",
       "  <tbody>\n",
       "    <tr>\n",
       "      <td>0</td>\n",
       "      <td>2</td>\n",
       "      <td>Ferdinandsbrücke Project, Vienna, Austria, Ele...</td>\n",
       "      <td>6210.0</td>\n",
       "      <td>Otto Wagner</td>\n",
       "      <td>1896</td>\n",
       "      <td>Ink and cut-and-pasted painted pages on paper</td>\n",
       "      <td>19 1/8 x 66 1/2\" (48.6 x 168.9 cm)</td>\n",
       "      <td>1996-04-09</td>\n",
       "      <td>Fractional and promised gift of Jo Carole and ...</td>\n",
       "      <td>Y</td>\n",
       "      <td>...</td>\n",
       "      <td>168.9000</td>\n",
       "      <td>NaN</td>\n",
       "      <td>NaN</td>\n",
       "      <td>NaN</td>\n",
       "      <td>1896</td>\n",
       "      <td>Otto Wagner</td>\n",
       "      <td>Austrian</td>\n",
       "      <td>Male</td>\n",
       "      <td>1970-01-01 00:00:00.000001841</td>\n",
       "      <td>1970-01-01 00:00:00.000001918</td>\n",
       "    </tr>\n",
       "    <tr>\n",
       "      <td>1</td>\n",
       "      <td>3</td>\n",
       "      <td>City of Music, National Superior Conservatory ...</td>\n",
       "      <td>7470.0</td>\n",
       "      <td>Christian de Portzamparc</td>\n",
       "      <td>1987</td>\n",
       "      <td>Paint and colored pencil on print</td>\n",
       "      <td>16 x 11 3/4\" (40.6 x 29.8 cm)</td>\n",
       "      <td>1995-01-17</td>\n",
       "      <td>Gift of the architect in honor of Lily Auchinc...</td>\n",
       "      <td>Y</td>\n",
       "      <td>...</td>\n",
       "      <td>29.8451</td>\n",
       "      <td>NaN</td>\n",
       "      <td>NaN</td>\n",
       "      <td>NaN</td>\n",
       "      <td>1987</td>\n",
       "      <td>Christian de Portzamparc</td>\n",
       "      <td>French</td>\n",
       "      <td>Male</td>\n",
       "      <td>1970-01-01 00:00:00.000001944</td>\n",
       "      <td>NaT</td>\n",
       "    </tr>\n",
       "  </tbody>\n",
       "</table>\n",
       "<p>2 rows × 27 columns</p>\n",
       "</div>"
      ],
      "text/plain": [
       "   Artwork_ID                                              Title  Artist_ID  \\\n",
       "0           2  Ferdinandsbrücke Project, Vienna, Austria, Ele...     6210.0   \n",
       "1           3  City of Music, National Superior Conservatory ...     7470.0   \n",
       "\n",
       "                     Name_x  Date  \\\n",
       "0               Otto Wagner  1896   \n",
       "1  Christian de Portzamparc  1987   \n",
       "\n",
       "                                          Medium  \\\n",
       "0  Ink and cut-and-pasted painted pages on paper   \n",
       "1              Paint and colored pencil on print   \n",
       "\n",
       "                           Dimensions Acquisition_Date  \\\n",
       "0  19 1/8 x 66 1/2\" (48.6 x 168.9 cm)       1996-04-09   \n",
       "1       16 x 11 3/4\" (40.6 x 29.8 cm)       1995-01-17   \n",
       "\n",
       "                                              Credit Catalogue  ...  \\\n",
       "0  Fractional and promised gift of Jo Carole and ...         Y  ...   \n",
       "1  Gift of the architect in honor of Lily Auchinc...         Y  ...   \n",
       "\n",
       "  Width (cm) Depth (cm) Weight (kg)  Duration (s)  Clean_Date  \\\n",
       "0   168.9000        NaN         NaN           NaN        1896   \n",
       "1    29.8451        NaN         NaN           NaN        1987   \n",
       "\n",
       "                     Name_y  Nationality  Gender  \\\n",
       "0               Otto Wagner     Austrian    Male   \n",
       "1  Christian de Portzamparc       French    Male   \n",
       "\n",
       "                     Birth_Year                    Death_Year  \n",
       "0 1970-01-01 00:00:00.000001841 1970-01-01 00:00:00.000001918  \n",
       "1 1970-01-01 00:00:00.000001944                           NaT  \n",
       "\n",
       "[2 rows x 27 columns]"
      ]
     },
     "execution_count": 24,
     "metadata": {},
     "output_type": "execute_result"
    }
   ],
   "source": [
    "df.head(2)"
   ]
  },
  {
   "cell_type": "code",
   "execution_count": 25,
   "metadata": {},
   "outputs": [],
   "source": [
    "#drop dupliated name column & rename it as 'Name'\n",
    "df = df.drop('Name_x', 1)\n",
    "df.rename(columns={'Name_y': 'Name'}, inplace=True)"
   ]
  },
  {
   "cell_type": "code",
   "execution_count": 26,
   "metadata": {},
   "outputs": [
    {
     "data": {
      "text/plain": [
       "True"
      ]
     },
     "execution_count": 26,
     "metadata": {},
     "output_type": "execute_result"
    }
   ],
   "source": [
    "#check if df has dupliated artwork_id before count\n",
    "pd.Series(df['Artwork_ID']).is_unique"
   ]
  },
  {
   "cell_type": "code",
   "execution_count": 38,
   "metadata": {},
   "outputs": [
    {
     "data": {
      "text/html": [
       "<div>\n",
       "<style scoped>\n",
       "    .dataframe tbody tr th:only-of-type {\n",
       "        vertical-align: middle;\n",
       "    }\n",
       "\n",
       "    .dataframe tbody tr th {\n",
       "        vertical-align: top;\n",
       "    }\n",
       "\n",
       "    .dataframe thead th {\n",
       "        text-align: right;\n",
       "    }\n",
       "</style>\n",
       "<table border=\"1\" class=\"dataframe\">\n",
       "  <thead>\n",
       "    <tr style=\"text-align: right;\">\n",
       "      <th></th>\n",
       "      <th>Artwork_ID</th>\n",
       "      <th>Title</th>\n",
       "      <th>Artist_ID</th>\n",
       "      <th>Date</th>\n",
       "      <th>Medium</th>\n",
       "      <th>Dimensions</th>\n",
       "      <th>Acquisition_Date</th>\n",
       "      <th>Credit</th>\n",
       "      <th>Catalogue</th>\n",
       "      <th>Department</th>\n",
       "      <th>...</th>\n",
       "      <th>Width (cm)</th>\n",
       "      <th>Depth (cm)</th>\n",
       "      <th>Weight (kg)</th>\n",
       "      <th>Duration (s)</th>\n",
       "      <th>Clean_Date</th>\n",
       "      <th>Name</th>\n",
       "      <th>Nationality</th>\n",
       "      <th>Gender</th>\n",
       "      <th>Birth_Year</th>\n",
       "      <th>Death_Year</th>\n",
       "    </tr>\n",
       "  </thead>\n",
       "  <tbody>\n",
       "    <tr>\n",
       "      <td>0</td>\n",
       "      <td>2</td>\n",
       "      <td>Ferdinandsbrücke Project, Vienna, Austria, Ele...</td>\n",
       "      <td>6210.0</td>\n",
       "      <td>1896</td>\n",
       "      <td>Ink and cut-and-pasted painted pages on paper</td>\n",
       "      <td>19 1/8 x 66 1/2\" (48.6 x 168.9 cm)</td>\n",
       "      <td>1996-04-09</td>\n",
       "      <td>Fractional and promised gift of Jo Carole and ...</td>\n",
       "      <td>Y</td>\n",
       "      <td>Architecture &amp; Design</td>\n",
       "      <td>...</td>\n",
       "      <td>168.9000</td>\n",
       "      <td>NaN</td>\n",
       "      <td>NaN</td>\n",
       "      <td>NaN</td>\n",
       "      <td>1896</td>\n",
       "      <td>Otto Wagner</td>\n",
       "      <td>Austrian</td>\n",
       "      <td>Male</td>\n",
       "      <td>1970-01-01 00:00:00.000001841</td>\n",
       "      <td>1970-01-01 00:00:00.000001918</td>\n",
       "    </tr>\n",
       "    <tr>\n",
       "      <td>1</td>\n",
       "      <td>3</td>\n",
       "      <td>City of Music, National Superior Conservatory ...</td>\n",
       "      <td>7470.0</td>\n",
       "      <td>1987</td>\n",
       "      <td>Paint and colored pencil on print</td>\n",
       "      <td>16 x 11 3/4\" (40.6 x 29.8 cm)</td>\n",
       "      <td>1995-01-17</td>\n",
       "      <td>Gift of the architect in honor of Lily Auchinc...</td>\n",
       "      <td>Y</td>\n",
       "      <td>Architecture &amp; Design</td>\n",
       "      <td>...</td>\n",
       "      <td>29.8451</td>\n",
       "      <td>NaN</td>\n",
       "      <td>NaN</td>\n",
       "      <td>NaN</td>\n",
       "      <td>1987</td>\n",
       "      <td>Christian de Portzamparc</td>\n",
       "      <td>French</td>\n",
       "      <td>Male</td>\n",
       "      <td>1970-01-01 00:00:00.000001944</td>\n",
       "      <td>NaT</td>\n",
       "    </tr>\n",
       "  </tbody>\n",
       "</table>\n",
       "<p>2 rows × 26 columns</p>\n",
       "</div>"
      ],
      "text/plain": [
       "   Artwork_ID                                              Title  Artist_ID  \\\n",
       "0           2  Ferdinandsbrücke Project, Vienna, Austria, Ele...     6210.0   \n",
       "1           3  City of Music, National Superior Conservatory ...     7470.0   \n",
       "\n",
       "   Date                                         Medium  \\\n",
       "0  1896  Ink and cut-and-pasted painted pages on paper   \n",
       "1  1987              Paint and colored pencil on print   \n",
       "\n",
       "                           Dimensions Acquisition_Date  \\\n",
       "0  19 1/8 x 66 1/2\" (48.6 x 168.9 cm)       1996-04-09   \n",
       "1       16 x 11 3/4\" (40.6 x 29.8 cm)       1995-01-17   \n",
       "\n",
       "                                              Credit Catalogue  \\\n",
       "0  Fractional and promised gift of Jo Carole and ...         Y   \n",
       "1  Gift of the architect in honor of Lily Auchinc...         Y   \n",
       "\n",
       "              Department  ... Width (cm) Depth (cm)  Weight (kg)  \\\n",
       "0  Architecture & Design  ...   168.9000        NaN          NaN   \n",
       "1  Architecture & Design  ...    29.8451        NaN          NaN   \n",
       "\n",
       "   Duration (s)  Clean_Date                      Name  Nationality  Gender  \\\n",
       "0           NaN        1896               Otto Wagner     Austrian    Male   \n",
       "1           NaN        1987  Christian de Portzamparc       French    Male   \n",
       "\n",
       "                     Birth_Year                    Death_Year  \n",
       "0 1970-01-01 00:00:00.000001841 1970-01-01 00:00:00.000001918  \n",
       "1 1970-01-01 00:00:00.000001944                           NaT  \n",
       "\n",
       "[2 rows x 26 columns]"
      ]
     },
     "execution_count": 38,
     "metadata": {},
     "output_type": "execute_result"
    }
   ],
   "source": [
    "df.head(2)"
   ]
  },
  {
   "cell_type": "markdown",
   "metadata": {},
   "source": [
    "### Data Exploration"
   ]
  },
  {
   "cell_type": "markdown",
   "metadata": {},
   "source": [
    "Artwork collections data by Department"
   ]
  },
  {
   "cell_type": "code",
   "execution_count": 27,
   "metadata": {},
   "outputs": [],
   "source": [
    "df_d = df.groupby('Department')['Artwork_ID'].count().sort_values(ascending=False).to_frame('Number_of_Artwork').reset_index()"
   ]
  },
  {
   "cell_type": "code",
   "execution_count": 28,
   "metadata": {},
   "outputs": [
    {
     "data": {
      "text/html": [
       "<div>\n",
       "<style scoped>\n",
       "    .dataframe tbody tr th:only-of-type {\n",
       "        vertical-align: middle;\n",
       "    }\n",
       "\n",
       "    .dataframe tbody tr th {\n",
       "        vertical-align: top;\n",
       "    }\n",
       "\n",
       "    .dataframe thead th {\n",
       "        text-align: right;\n",
       "    }\n",
       "</style>\n",
       "<table border=\"1\" class=\"dataframe\">\n",
       "  <thead>\n",
       "    <tr style=\"text-align: right;\">\n",
       "      <th></th>\n",
       "      <th>Department</th>\n",
       "      <th>Number_of_Artwork</th>\n",
       "    </tr>\n",
       "  </thead>\n",
       "  <tbody>\n",
       "    <tr>\n",
       "      <td>0</td>\n",
       "      <td>Prints &amp; Illustrated Books</td>\n",
       "      <td>60128</td>\n",
       "    </tr>\n",
       "    <tr>\n",
       "      <td>1</td>\n",
       "      <td>Photography</td>\n",
       "      <td>29161</td>\n",
       "    </tr>\n",
       "    <tr>\n",
       "      <td>2</td>\n",
       "      <td>Architecture &amp; Design</td>\n",
       "      <td>18269</td>\n",
       "    </tr>\n",
       "    <tr>\n",
       "      <td>3</td>\n",
       "      <td>Drawings</td>\n",
       "      <td>11027</td>\n",
       "    </tr>\n",
       "    <tr>\n",
       "      <td>4</td>\n",
       "      <td>Painting &amp; Sculpture</td>\n",
       "      <td>3806</td>\n",
       "    </tr>\n",
       "    <tr>\n",
       "      <td>5</td>\n",
       "      <td>Film</td>\n",
       "      <td>3088</td>\n",
       "    </tr>\n",
       "    <tr>\n",
       "      <td>6</td>\n",
       "      <td>Media and Performance Art</td>\n",
       "      <td>2627</td>\n",
       "    </tr>\n",
       "    <tr>\n",
       "      <td>7</td>\n",
       "      <td>Fluxus Collection</td>\n",
       "      <td>2135</td>\n",
       "    </tr>\n",
       "    <tr>\n",
       "      <td>8</td>\n",
       "      <td>Architecture &amp; Design - Image Archive</td>\n",
       "      <td>21</td>\n",
       "    </tr>\n",
       "  </tbody>\n",
       "</table>\n",
       "</div>"
      ],
      "text/plain": [
       "                              Department  Number_of_Artwork\n",
       "0             Prints & Illustrated Books              60128\n",
       "1                            Photography              29161\n",
       "2                  Architecture & Design              18269\n",
       "3                               Drawings              11027\n",
       "4                   Painting & Sculpture               3806\n",
       "5                                   Film               3088\n",
       "6              Media and Performance Art               2627\n",
       "7                      Fluxus Collection               2135\n",
       "8  Architecture & Design - Image Archive                 21"
      ]
     },
     "execution_count": 28,
     "metadata": {},
     "output_type": "execute_result"
    }
   ],
   "source": [
    "df_d # 9 depts; Prints & Illustrated Books Dept has the highest number of collections"
   ]
  },
  {
   "cell_type": "code",
   "execution_count": 29,
   "metadata": {
    "scrolled": true
   },
   "outputs": [
    {
     "data": {
      "text/plain": [
       "<matplotlib.axes._subplots.AxesSubplot at 0x1d3fd0d5248>"
      ]
     },
     "execution_count": 29,
     "metadata": {},
     "output_type": "execute_result"
    },
    {
     "data": {
      "image/png": "[encoded data removed]",
      "text/plain": [
       "<Figure size 432x288 with 1 Axes>"
      ]
     },
     "metadata": {
      "needs_background": "light"
     },
     "output_type": "display_data"
    }
   ],
   "source": [
    "df.groupby('Department')['Artwork_ID'].count().plot(kind='bar')"
   ]
  },
  {
   "cell_type": "code",
   "execution_count": 30,
   "metadata": {},
   "outputs": [
    {
     "data": {
      "text/plain": [
       "Prints & Illustrated Books               0.461593\n",
       "Photography                              0.223864\n",
       "Architecture & Design                    0.140248\n",
       "Drawings                                 0.084652\n",
       "Painting & Sculpture                     0.029218\n",
       "Film                                     0.023706\n",
       "Media and Performance Art                0.020167\n",
       "Fluxus Collection                        0.016390\n",
       "Architecture & Design - Image Archive    0.000161\n",
       "Name: Department, dtype: float64"
      ]
     },
     "execution_count": 30,
     "metadata": {},
     "output_type": "execute_result"
    }
   ],
   "source": [
    "df.Department.value_counts(normalize = True) #Prints & Illustrated Books Dept contributed 46% of the artwork collections in MoMA"
   ]
  },
  {
   "cell_type": "markdown",
   "metadata": {},
   "source": [
    "Artwork collections data by Artist Nationality"
   ]
  },
  {
   "cell_type": "code",
   "execution_count": 31,
   "metadata": {},
   "outputs": [],
   "source": [
    "df_n = df.groupby('Nationality')['Artwork_ID'].count().sort_values(ascending=False).to_frame('Number_of_Artwork').reset_index()"
   ]
  },
  {
   "cell_type": "code",
   "execution_count": 32,
   "metadata": {},
   "outputs": [
    {
     "data": {
      "text/plain": [
       "(121, 2)"
      ]
     },
     "execution_count": 32,
     "metadata": {},
     "output_type": "execute_result"
    }
   ],
   "source": [
    "df_n.shape #artists come from 121 countries"
   ]
  },
  {
   "cell_type": "code",
   "execution_count": 33,
   "metadata": {},
   "outputs": [],
   "source": [
    "#filter out the ones with more than 1000 collections\n",
    "nation_chart = df_n[df_n.Number_of_Artwork >= 1000]"
   ]
  },
  {
   "cell_type": "code",
   "execution_count": 34,
   "metadata": {},
   "outputs": [
    {
     "data": {
      "text/plain": [
       "(12, 2)"
      ]
     },
     "execution_count": 34,
     "metadata": {},
     "output_type": "execute_result"
    }
   ],
   "source": [
    "nation_chart.shape #12 countries have more than 1000 artwork collections been acquired"
   ]
  },
  {
   "cell_type": "code",
   "execution_count": 36,
   "metadata": {},
   "outputs": [
    {
     "data": {
      "text/plain": [
       "Text(0.5, 1.0, 'Artwork Collections by Artist Nationality')"
      ]
     },
     "execution_count": 36,
     "metadata": {},
     "output_type": "execute_result"
    },
    {
     "data": {
      "image/png": "[encoded data removed]",
      "text/plain": [
       "<Figure size 576x432 with 1 Axes>"
      ]
     },
     "metadata": {},
     "output_type": "display_data"
    }
   ],
   "source": [
    "fig_dims = (8, 6)\n",
    "fig, ax = plt.subplots(figsize=fig_dims)\n",
    "\n",
    "sns.set_style(\"darkgrid\")\n",
    "sns.barplot(x='Number_of_Artwork', y='Nationality', data=nation_chart, palette='viridis')\n",
    "plt.title(\"Artwork Collections by Artist Nationality\")"
   ]
  },
  {
   "cell_type": "code",
   "execution_count": 37,
   "metadata": {},
   "outputs": [
    {
     "name": "stdout",
     "output_type": "stream",
     "text": [
      "Prints & Illustrated Books\n",
      "American    0.397012\n",
      "French      0.246688\n",
      "German      0.067646\n",
      "British     0.045392\n",
      "Spanish     0.042566\n",
      "Name: Nationality, dtype: float64\n",
      "Photography\n",
      "American    0.543423\n",
      "French      0.238695\n",
      "German      0.062285\n",
      "British     0.060219\n",
      "Dutch       0.018785\n",
      "Name: Nationality, dtype: float64\n",
      "Architecture & Design\n",
      "American    0.431613\n",
      "German      0.122855\n",
      "Swiss       0.044235\n",
      "Italian     0.043028\n",
      "British     0.041502\n",
      "Name: Nationality, dtype: float64\n",
      "Drawings\n",
      "American    0.518693\n",
      "German      0.103111\n",
      "French      0.070248\n",
      "British     0.039417\n",
      "Japanese    0.026309\n",
      "Name: Nationality, dtype: float64\n",
      "Painting & Sculpture\n",
      "American    0.520211\n",
      "French      0.116513\n",
      "German      0.071863\n",
      "British     0.044650\n",
      "Spanish     0.037252\n",
      "Name: Nationality, dtype: float64\n",
      "Film\n",
      "American    0.669865\n",
      "French      0.049280\n",
      "British     0.022678\n",
      "Canadian    0.021805\n",
      "Spanish     0.021369\n",
      "Name: Nationality, dtype: float64\n",
      "Media and Performance Art\n",
      "American    0.427790\n",
      "Swiss       0.099772\n",
      "Belgian     0.087927\n",
      "Canadian    0.071982\n",
      "German      0.039636\n",
      "Name: Nationality, dtype: float64\n",
      "Fluxus Collection\n",
      "American    0.684610\n",
      "French      0.090407\n",
      "Japanese    0.065562\n",
      "German      0.051070\n",
      "Polish      0.033126\n",
      "Name: Nationality, dtype: float64\n",
      "Architecture & Design - Image Archive\n",
      "American    0.944444\n",
      "German      0.055556\n",
      "Name: Nationality, dtype: float64\n"
     ]
    }
   ],
   "source": [
    "#nationality distribution by dept\n",
    "department = ['Prints & Illustrated Books', 'Photography', 'Architecture & Design', 'Drawings', 'Painting & Sculpture', 'Film', 'Media and Performance Art', 'Fluxus Collection', 'Architecture & Design - Image Archive']\n",
    "for d in department: \n",
    "    print(d)\n",
    "    df_d_data = df[(df.Department == d)].Nationality.value_counts(normalize = True)\n",
    "    print(df_d_data.head(5))\n",
    "\n",
    "#American artist collections contributed 39.7% in Print & Illustrated Books dept\n",
    "#American artist collections contributed 54.3% in Photography dept"
   ]
  },
  {
   "cell_type": "markdown",
   "metadata": {},
   "source": [
    "Artwork collections data by Artist Gender"
   ]
  },
  {
   "cell_type": "code",
   "execution_count": 40,
   "metadata": {},
   "outputs": [],
   "source": [
    "df_g = df.groupby('Gender')['Artwork_ID'].count().sort_values(ascending=False).to_frame('Number_of_Artwork').reset_index()"
   ]
  },
  {
   "cell_type": "code",
   "execution_count": 41,
   "metadata": {},
   "outputs": [
    {
     "data": {
      "image/png": "[encoded data removed]",
      "text/plain": [
       "<Figure size 432x288 with 1 Axes>"
      ]
     },
     "metadata": {},
     "output_type": "display_data"
    }
   ],
   "source": [
    "labels = df_g['Gender']\n",
    "plot = df_g.plot.pie(y='Number_of_Artwork', title=\"Artwork Collection Data by Gender\", legend=True, labels=labels, autopct='%1.1f%%')"
   ]
  },
  {
   "cell_type": "markdown",
   "metadata": {},
   "source": [
    "Artwork collections data by Acquisition Year"
   ]
  },
  {
   "cell_type": "code",
   "execution_count": 42,
   "metadata": {},
   "outputs": [],
   "source": [
    "#extra year to get acquisition year\n",
    "df['Acquisition_Year'] = df['Acquisition_Date'].dt.year"
   ]
  },
  {
   "cell_type": "code",
   "execution_count": 43,
   "metadata": {},
   "outputs": [],
   "source": [
    "df_y = df.groupby('Acquisition_Year')['Artwork_ID'].count().sort_values(ascending=False).to_frame('Number_of_Artwork').reset_index()"
   ]
  },
  {
   "cell_type": "code",
   "execution_count": 44,
   "metadata": {},
   "outputs": [
    {
     "data": {
      "text/plain": [
       "<seaborn.axisgrid.FacetGrid at 0x1d382208808>"
      ]
     },
     "execution_count": 44,
     "metadata": {},
     "output_type": "execute_result"
    },
    {
     "data": {
      "image/png": "[encoded data removed]",
      "text/plain": [
       "<Figure size 360x360 with 1 Axes>"
      ]
     },
     "metadata": {},
     "output_type": "display_data"
    }
   ],
   "source": [
    "sns.set_style(\"darkgrid\")\n",
    "sns.relplot(x=\"Acquisition_Year\", y=\"Number_of_Artwork\", kind=\"line\", data=df_y)"
   ]
  },
  {
   "cell_type": "code",
   "execution_count": 45,
   "metadata": {},
   "outputs": [
    {
     "data": {
      "text/html": [
       "<div>\n",
       "<style scoped>\n",
       "    .dataframe tbody tr th:only-of-type {\n",
       "        vertical-align: middle;\n",
       "    }\n",
       "\n",
       "    .dataframe tbody tr th {\n",
       "        vertical-align: top;\n",
       "    }\n",
       "\n",
       "    .dataframe thead th {\n",
       "        text-align: right;\n",
       "    }\n",
       "</style>\n",
       "<table border=\"1\" class=\"dataframe\">\n",
       "  <thead>\n",
       "    <tr style=\"text-align: right;\">\n",
       "      <th></th>\n",
       "      <th>Acquisition_Year</th>\n",
       "      <th>Number_of_Artwork</th>\n",
       "    </tr>\n",
       "  </thead>\n",
       "  <tbody>\n",
       "    <tr>\n",
       "      <td>0</td>\n",
       "      <td>1964.0</td>\n",
       "      <td>12531</td>\n",
       "    </tr>\n",
       "    <tr>\n",
       "      <td>1</td>\n",
       "      <td>2008.0</td>\n",
       "      <td>7062</td>\n",
       "    </tr>\n",
       "    <tr>\n",
       "      <td>2</td>\n",
       "      <td>1968.0</td>\n",
       "      <td>6897</td>\n",
       "    </tr>\n",
       "    <tr>\n",
       "      <td>3</td>\n",
       "      <td>2005.0</td>\n",
       "      <td>4079</td>\n",
       "    </tr>\n",
       "    <tr>\n",
       "      <td>4</td>\n",
       "      <td>2015.0</td>\n",
       "      <td>3902</td>\n",
       "    </tr>\n",
       "    <tr>\n",
       "      <td>5</td>\n",
       "      <td>2001.0</td>\n",
       "      <td>3571</td>\n",
       "    </tr>\n",
       "    <tr>\n",
       "      <td>6</td>\n",
       "      <td>2012.0</td>\n",
       "      <td>3462</td>\n",
       "    </tr>\n",
       "    <tr>\n",
       "      <td>7</td>\n",
       "      <td>1974.0</td>\n",
       "      <td>3374</td>\n",
       "    </tr>\n",
       "    <tr>\n",
       "      <td>8</td>\n",
       "      <td>2013.0</td>\n",
       "      <td>3231</td>\n",
       "    </tr>\n",
       "    <tr>\n",
       "      <td>9</td>\n",
       "      <td>2014.0</td>\n",
       "      <td>2675</td>\n",
       "    </tr>\n",
       "  </tbody>\n",
       "</table>\n",
       "</div>"
      ],
      "text/plain": [
       "   Acquisition_Year  Number_of_Artwork\n",
       "0            1964.0              12531\n",
       "1            2008.0               7062\n",
       "2            1968.0               6897\n",
       "3            2005.0               4079\n",
       "4            2015.0               3902\n",
       "5            2001.0               3571\n",
       "6            2012.0               3462\n",
       "7            1974.0               3374\n",
       "8            2013.0               3231\n",
       "9            2014.0               2675"
      ]
     },
     "execution_count": 45,
     "metadata": {},
     "output_type": "execute_result"
    }
   ],
   "source": [
    "df_y.head(10) #two peaks - Y1964 and Y2008"
   ]
  },
  {
   "cell_type": "code",
   "execution_count": 57,
   "metadata": {},
   "outputs": [
    {
     "data": {
      "text/plain": [
       "count    124798.000000\n",
       "mean       1983.530722\n",
       "std          22.488423\n",
       "min        1929.000000\n",
       "25%        1965.000000\n",
       "50%        1983.000000\n",
       "75%        2006.000000\n",
       "max        2016.000000\n",
       "Name: Acquisition_Year, dtype: float64"
      ]
     },
     "execution_count": 57,
     "metadata": {},
     "output_type": "execute_result"
    }
   ],
   "source": [
    "df['Acquisition_Year'].describe() #earliest acquisition happened in Y1929, while latest happened in Y2016."
   ]
  },
  {
   "cell_type": "markdown",
   "metadata": {},
   "source": [
    "Artwork collections data by Artist"
   ]
  },
  {
   "cell_type": "code",
   "execution_count": 46,
   "metadata": {},
   "outputs": [],
   "source": [
    "#drop null value in artist column\n",
    "df_1 = df.dropna(subset=['Name'])"
   ]
  },
  {
   "cell_type": "code",
   "execution_count": 47,
   "metadata": {},
   "outputs": [],
   "source": [
    "#drop Unknow value\n",
    "df_2 = df_1.drop(df_1.index[df_1.Name == 'Unknown photographer'])\n",
    "df_3 = df_2.drop(df_2.index[df_2.Name == 'Unknown Artist'])"
   ]
  },
  {
   "cell_type": "code",
   "execution_count": 48,
   "metadata": {},
   "outputs": [],
   "source": [
    "df_a = df_3.groupby('Name')['Artwork_ID'].count().sort_values(ascending=False).to_frame('Number_of_Artwork').reset_index()"
   ]
  },
  {
   "cell_type": "code",
   "execution_count": 50,
   "metadata": {},
   "outputs": [
    {
     "data": {
      "text/plain": [
       "Text(0.5, 1.0, 'Top 20 Artists')"
      ]
     },
     "execution_count": 50,
     "metadata": {},
     "output_type": "execute_result"
    },
    {
     "data": {
      "image/png": "[encoded data removed]",
      "text/plain": [
       "<Figure size 648x504 with 1 Axes>"
      ]
     },
     "metadata": {},
     "output_type": "display_data"
    }
   ],
   "source": [
    "fig_dims = (9, 7)\n",
    "fig, ax = plt.subplots(figsize=fig_dims)\n",
    "\n",
    "sns.set_style(\"darkgrid\")\n",
    "sns.barplot(x='Number_of_Artwork', y='Name', data=df_a[:21], palette='Set2')\n",
    "plt.title(\"Top 20 Artists\") #artists have the highest number of artworks"
   ]
  },
  {
   "cell_type": "code",
   "execution_count": 51,
   "metadata": {},
   "outputs": [],
   "source": [
    "#find the Painting & Sculpture dept\n",
    "df_painting = df_3[df_3.Department == 'Painting & Sculpture']"
   ]
  },
  {
   "cell_type": "code",
   "execution_count": 52,
   "metadata": {},
   "outputs": [],
   "source": [
    "df_a1 = df_painting.groupby('Name')['Artwork_ID'].count().sort_values(ascending=False).to_frame('Number_of_Artwork').reset_index()"
   ]
  },
  {
   "cell_type": "code",
   "execution_count": 53,
   "metadata": {},
   "outputs": [
    {
     "data": {
      "text/plain": [
       "Text(0.5, 1.0, 'Top 20 Artists in Painting & Sculpture Dept')"
      ]
     },
     "execution_count": 53,
     "metadata": {},
     "output_type": "execute_result"
    },
    {
     "data": {
      "image/png": "[encoded data removed]",
      "text/plain": [
       "<Figure size 648x504 with 1 Axes>"
      ]
     },
     "metadata": {},
     "output_type": "display_data"
    }
   ],
   "source": [
    "fig_dims = (9, 7)\n",
    "fig, ax = plt.subplots(figsize=fig_dims)\n",
    "\n",
    "sns.set_style(\"darkgrid\")\n",
    "sns.barplot(x='Number_of_Artwork', y='Name', data=df_a1[:21], palette='Set3')\n",
    "plt.title(\"Top 20 Artists in Painting & Sculpture Dept\")"
   ]
  },
  {
   "cell_type": "code",
   "execution_count": 54,
   "metadata": {},
   "outputs": [
    {
     "name": "stdout",
     "output_type": "stream",
     "text": [
      "pls input the artist name: Pablo Picasso\n",
      "The artist name is Pablo Picasso. The related data is as below \n"
     ]
    },
    {
     "data": {
      "text/html": [
       "<div>\n",
       "<style scoped>\n",
       "    .dataframe tbody tr th:only-of-type {\n",
       "        vertical-align: middle;\n",
       "    }\n",
       "\n",
       "    .dataframe tbody tr th {\n",
       "        vertical-align: top;\n",
       "    }\n",
       "\n",
       "    .dataframe thead th {\n",
       "        text-align: right;\n",
       "    }\n",
       "</style>\n",
       "<table border=\"1\" class=\"dataframe\">\n",
       "  <thead>\n",
       "    <tr style=\"text-align: right;\">\n",
       "      <th></th>\n",
       "      <th>Artwork_ID</th>\n",
       "      <th>Title</th>\n",
       "      <th>Artist_ID</th>\n",
       "      <th>Date</th>\n",
       "      <th>Medium</th>\n",
       "      <th>Dimensions</th>\n",
       "      <th>Acquisition_Date</th>\n",
       "      <th>Credit</th>\n",
       "      <th>Catalogue</th>\n",
       "      <th>Department</th>\n",
       "      <th>...</th>\n",
       "      <th>Depth (cm)</th>\n",
       "      <th>Weight (kg)</th>\n",
       "      <th>Duration (s)</th>\n",
       "      <th>Clean_Date</th>\n",
       "      <th>Name</th>\n",
       "      <th>Nationality</th>\n",
       "      <th>Gender</th>\n",
       "      <th>Birth_Year</th>\n",
       "      <th>Death_Year</th>\n",
       "      <th>Acquisition_Year</th>\n",
       "    </tr>\n",
       "  </thead>\n",
       "  <tbody>\n",
       "    <tr>\n",
       "      <td>3884</td>\n",
       "      <td>4891</td>\n",
       "      <td>Picasso, \"Les Menines,\" Galerie Louise Leiris</td>\n",
       "      <td>4609.0</td>\n",
       "      <td>1959</td>\n",
       "      <td>Lithograph</td>\n",
       "      <td>18 3/4 x 26 1/4\" (47.6 x 66.6 cm)</td>\n",
       "      <td>1960-04-06</td>\n",
       "      <td>Gift of Mourlot Frères</td>\n",
       "      <td>Y</td>\n",
       "      <td>Architecture &amp; Design</td>\n",
       "      <td>...</td>\n",
       "      <td>NaN</td>\n",
       "      <td>NaN</td>\n",
       "      <td>NaN</td>\n",
       "      <td>1959</td>\n",
       "      <td>Pablo Picasso</td>\n",
       "      <td>Spanish</td>\n",
       "      <td>Male</td>\n",
       "      <td>1970-01-01 00:00:00.000001881</td>\n",
       "      <td>1970-01-01 00:00:00.000001973</td>\n",
       "      <td>1960.0</td>\n",
       "    </tr>\n",
       "    <tr>\n",
       "      <td>4440</td>\n",
       "      <td>5481</td>\n",
       "      <td>Vallauris 1951 Exposition</td>\n",
       "      <td>4609.0</td>\n",
       "      <td>1951</td>\n",
       "      <td>Linocut</td>\n",
       "      <td>25 5/8 x 19 1/2\" (65.1 x 49.5 cm)</td>\n",
       "      <td>1968-03-07</td>\n",
       "      <td>Given anonymously</td>\n",
       "      <td>Y</td>\n",
       "      <td>Architecture &amp; Design</td>\n",
       "      <td>...</td>\n",
       "      <td>NaN</td>\n",
       "      <td>NaN</td>\n",
       "      <td>NaN</td>\n",
       "      <td>1951</td>\n",
       "      <td>Pablo Picasso</td>\n",
       "      <td>Spanish</td>\n",
       "      <td>Male</td>\n",
       "      <td>1970-01-01 00:00:00.000001881</td>\n",
       "      <td>1970-01-01 00:00:00.000001973</td>\n",
       "      <td>1968.0</td>\n",
       "    </tr>\n",
       "    <tr>\n",
       "      <td>5244</td>\n",
       "      <td>6305</td>\n",
       "      <td>Exposition Hispano-Americaine</td>\n",
       "      <td>4609.0</td>\n",
       "      <td>1951</td>\n",
       "      <td>Lithograph</td>\n",
       "      <td>23 1/4 x 18\" (59.1 x 45.7 cm)</td>\n",
       "      <td>1953-04-07</td>\n",
       "      <td>Purchase</td>\n",
       "      <td>Y</td>\n",
       "      <td>Architecture &amp; Design</td>\n",
       "      <td>...</td>\n",
       "      <td>NaN</td>\n",
       "      <td>NaN</td>\n",
       "      <td>NaN</td>\n",
       "      <td>1951</td>\n",
       "      <td>Pablo Picasso</td>\n",
       "      <td>Spanish</td>\n",
       "      <td>Male</td>\n",
       "      <td>1970-01-01 00:00:00.000001881</td>\n",
       "      <td>1970-01-01 00:00:00.000001973</td>\n",
       "      <td>1953.0</td>\n",
       "    </tr>\n",
       "    <tr>\n",
       "      <td>5247</td>\n",
       "      <td>6308</td>\n",
       "      <td>Picasso et le théâtre</td>\n",
       "      <td>4609.0</td>\n",
       "      <td>1965</td>\n",
       "      <td>Lithograph</td>\n",
       "      <td>35 3/4 x 22 3/4\" (90.8 x 57.8 cm)</td>\n",
       "      <td>1966-05-10</td>\n",
       "      <td>Gift of James Thrall Soby</td>\n",
       "      <td>Y</td>\n",
       "      <td>Architecture &amp; Design</td>\n",
       "      <td>...</td>\n",
       "      <td>NaN</td>\n",
       "      <td>NaN</td>\n",
       "      <td>NaN</td>\n",
       "      <td>1965</td>\n",
       "      <td>Pablo Picasso</td>\n",
       "      <td>Spanish</td>\n",
       "      <td>Male</td>\n",
       "      <td>1970-01-01 00:00:00.000001881</td>\n",
       "      <td>1970-01-01 00:00:00.000001973</td>\n",
       "      <td>1966.0</td>\n",
       "    </tr>\n",
       "    <tr>\n",
       "      <td>5251</td>\n",
       "      <td>6312</td>\n",
       "      <td>Exposition Vallauris</td>\n",
       "      <td>4609.0</td>\n",
       "      <td>1952</td>\n",
       "      <td>Linoleum cut</td>\n",
       "      <td>each: 26 1/8 x 19 3/4\" (66.4 x 50.2 cm)</td>\n",
       "      <td>1953-04-07</td>\n",
       "      <td>Gift of Curt Valentin</td>\n",
       "      <td>N</td>\n",
       "      <td>Architecture &amp; Design</td>\n",
       "      <td>...</td>\n",
       "      <td>NaN</td>\n",
       "      <td>NaN</td>\n",
       "      <td>NaN</td>\n",
       "      <td>1952</td>\n",
       "      <td>Pablo Picasso</td>\n",
       "      <td>Spanish</td>\n",
       "      <td>Male</td>\n",
       "      <td>1970-01-01 00:00:00.000001881</td>\n",
       "      <td>1970-01-01 00:00:00.000001973</td>\n",
       "      <td>1953.0</td>\n",
       "    </tr>\n",
       "    <tr>\n",
       "      <td>...</td>\n",
       "      <td>...</td>\n",
       "      <td>...</td>\n",
       "      <td>...</td>\n",
       "      <td>...</td>\n",
       "      <td>...</td>\n",
       "      <td>...</td>\n",
       "      <td>...</td>\n",
       "      <td>...</td>\n",
       "      <td>...</td>\n",
       "      <td>...</td>\n",
       "      <td>...</td>\n",
       "      <td>...</td>\n",
       "      <td>...</td>\n",
       "      <td>...</td>\n",
       "      <td>...</td>\n",
       "      <td>...</td>\n",
       "      <td>...</td>\n",
       "      <td>...</td>\n",
       "      <td>...</td>\n",
       "      <td>...</td>\n",
       "      <td>...</td>\n",
       "    </tr>\n",
       "    <tr>\n",
       "      <td>113717</td>\n",
       "      <td>165083</td>\n",
       "      <td>Célestine, maja et complice masculin (plate, p...</td>\n",
       "      <td>4609.0</td>\n",
       "      <td>1968, published 1971</td>\n",
       "      <td>One from an illustrated book with 66 etching a...</td>\n",
       "      <td>page (each, approx.): 8 1/4 x 6 7/16\" (21 x 16...</td>\n",
       "      <td>2012-10-03</td>\n",
       "      <td>Committee on Prints and Illustrated Books Fund</td>\n",
       "      <td>N</td>\n",
       "      <td>Prints &amp; Illustrated Books</td>\n",
       "      <td>...</td>\n",
       "      <td>NaN</td>\n",
       "      <td>NaN</td>\n",
       "      <td>NaN</td>\n",
       "      <td>1971</td>\n",
       "      <td>Pablo Picasso</td>\n",
       "      <td>Spanish</td>\n",
       "      <td>Male</td>\n",
       "      <td>1970-01-01 00:00:00.000001881</td>\n",
       "      <td>1970-01-01 00:00:00.000001973</td>\n",
       "      <td>2012.0</td>\n",
       "    </tr>\n",
       "    <tr>\n",
       "      <td>113718</td>\n",
       "      <td>165084</td>\n",
       "      <td>Couple, hibou et odalisque à cheval (Le Départ...</td>\n",
       "      <td>4609.0</td>\n",
       "      <td>1968, published 1971</td>\n",
       "      <td>One from an illustrated book with 66 etching a...</td>\n",
       "      <td>page (each, approx.): 8 1/4 x 6 7/16\" (21 x 16...</td>\n",
       "      <td>2012-10-03</td>\n",
       "      <td>Committee on Prints and Illustrated Books Fund</td>\n",
       "      <td>N</td>\n",
       "      <td>Prints &amp; Illustrated Books</td>\n",
       "      <td>...</td>\n",
       "      <td>NaN</td>\n",
       "      <td>NaN</td>\n",
       "      <td>NaN</td>\n",
       "      <td>1971</td>\n",
       "      <td>Pablo Picasso</td>\n",
       "      <td>Spanish</td>\n",
       "      <td>Male</td>\n",
       "      <td>1970-01-01 00:00:00.000001881</td>\n",
       "      <td>1970-01-01 00:00:00.000001973</td>\n",
       "      <td>2012.0</td>\n",
       "    </tr>\n",
       "    <tr>\n",
       "      <td>113719</td>\n",
       "      <td>165085</td>\n",
       "      <td>La Célestine présentant ses deux pensionnaires...</td>\n",
       "      <td>4609.0</td>\n",
       "      <td>1968, published 1971</td>\n",
       "      <td>One from an illustrated book with 66 etching a...</td>\n",
       "      <td>page (each, approx.): 8 1/4 x 6 7/16\" (21 x 16...</td>\n",
       "      <td>2012-10-03</td>\n",
       "      <td>Committee on Prints and Illustrated Books Fund</td>\n",
       "      <td>N</td>\n",
       "      <td>Prints &amp; Illustrated Books</td>\n",
       "      <td>...</td>\n",
       "      <td>NaN</td>\n",
       "      <td>NaN</td>\n",
       "      <td>NaN</td>\n",
       "      <td>1971</td>\n",
       "      <td>Pablo Picasso</td>\n",
       "      <td>Spanish</td>\n",
       "      <td>Male</td>\n",
       "      <td>1970-01-01 00:00:00.000001881</td>\n",
       "      <td>1970-01-01 00:00:00.000001973</td>\n",
       "      <td>2012.0</td>\n",
       "    </tr>\n",
       "    <tr>\n",
       "      <td>122569</td>\n",
       "      <td>188137</td>\n",
       "      <td>Seated Woman</td>\n",
       "      <td>4609.0</td>\n",
       "      <td>Vallauris, 1947</td>\n",
       "      <td>Glazed earthenware</td>\n",
       "      <td>7 1/2 x 1 15/16 x 2 3/4\" (19 x 5 x 7 cm)</td>\n",
       "      <td>2016-06-06</td>\n",
       "      <td>Gift of Almine and Bernard Ruiz-Picasso</td>\n",
       "      <td>Y</td>\n",
       "      <td>Painting &amp; Sculpture</td>\n",
       "      <td>...</td>\n",
       "      <td>7.0</td>\n",
       "      <td>NaN</td>\n",
       "      <td>NaN</td>\n",
       "      <td>1947</td>\n",
       "      <td>Pablo Picasso</td>\n",
       "      <td>Spanish</td>\n",
       "      <td>Male</td>\n",
       "      <td>1970-01-01 00:00:00.000001881</td>\n",
       "      <td>1970-01-01 00:00:00.000001973</td>\n",
       "      <td>2016.0</td>\n",
       "    </tr>\n",
       "    <tr>\n",
       "      <td>125551</td>\n",
       "      <td>196494</td>\n",
       "      <td>Foulard pour le Festival Mondial de la Jeuness...</td>\n",
       "      <td>4609.0</td>\n",
       "      <td>1951</td>\n",
       "      <td>Silkscreen on linen</td>\n",
       "      <td>NaN</td>\n",
       "      <td>2015-10-19</td>\n",
       "      <td>Gift of Alfred H. Barr, Jr.</td>\n",
       "      <td>Y</td>\n",
       "      <td>Architecture &amp; Design</td>\n",
       "      <td>...</td>\n",
       "      <td>NaN</td>\n",
       "      <td>NaN</td>\n",
       "      <td>NaN</td>\n",
       "      <td>1951</td>\n",
       "      <td>Pablo Picasso</td>\n",
       "      <td>Spanish</td>\n",
       "      <td>Male</td>\n",
       "      <td>1970-01-01 00:00:00.000001881</td>\n",
       "      <td>1970-01-01 00:00:00.000001973</td>\n",
       "      <td>2015.0</td>\n",
       "    </tr>\n",
       "  </tbody>\n",
       "</table>\n",
       "<p>1310 rows × 27 columns</p>\n",
       "</div>"
      ],
      "text/plain": [
       "        Artwork_ID                                              Title  \\\n",
       "3884          4891      Picasso, \"Les Menines,\" Galerie Louise Leiris   \n",
       "4440          5481                          Vallauris 1951 Exposition   \n",
       "5244          6305                      Exposition Hispano-Americaine   \n",
       "5247          6308                              Picasso et le théâtre   \n",
       "5251          6312                               Exposition Vallauris   \n",
       "...            ...                                                ...   \n",
       "113717      165083  Célestine, maja et complice masculin (plate, p...   \n",
       "113718      165084  Couple, hibou et odalisque à cheval (Le Départ...   \n",
       "113719      165085  La Célestine présentant ses deux pensionnaires...   \n",
       "122569      188137                                       Seated Woman   \n",
       "125551      196494  Foulard pour le Festival Mondial de la Jeuness...   \n",
       "\n",
       "        Artist_ID                  Date  \\\n",
       "3884       4609.0                  1959   \n",
       "4440       4609.0                  1951   \n",
       "5244       4609.0                  1951   \n",
       "5247       4609.0                  1965   \n",
       "5251       4609.0                  1952   \n",
       "...           ...                   ...   \n",
       "113717     4609.0  1968, published 1971   \n",
       "113718     4609.0  1968, published 1971   \n",
       "113719     4609.0  1968, published 1971   \n",
       "122569     4609.0       Vallauris, 1947   \n",
       "125551     4609.0                  1951   \n",
       "\n",
       "                                                   Medium  \\\n",
       "3884                                           Lithograph   \n",
       "4440                                              Linocut   \n",
       "5244                                           Lithograph   \n",
       "5247                                           Lithograph   \n",
       "5251                                         Linoleum cut   \n",
       "...                                                   ...   \n",
       "113717  One from an illustrated book with 66 etching a...   \n",
       "113718  One from an illustrated book with 66 etching a...   \n",
       "113719  One from an illustrated book with 66 etching a...   \n",
       "122569                                 Glazed earthenware   \n",
       "125551                                Silkscreen on linen   \n",
       "\n",
       "                                               Dimensions Acquisition_Date  \\\n",
       "3884                    18 3/4 x 26 1/4\" (47.6 x 66.6 cm)       1960-04-06   \n",
       "4440                    25 5/8 x 19 1/2\" (65.1 x 49.5 cm)       1968-03-07   \n",
       "5244                        23 1/4 x 18\" (59.1 x 45.7 cm)       1953-04-07   \n",
       "5247                    35 3/4 x 22 3/4\" (90.8 x 57.8 cm)       1966-05-10   \n",
       "5251              each: 26 1/8 x 19 3/4\" (66.4 x 50.2 cm)       1953-04-07   \n",
       "...                                                   ...              ...   \n",
       "113717  page (each, approx.): 8 1/4 x 6 7/16\" (21 x 16...       2012-10-03   \n",
       "113718  page (each, approx.): 8 1/4 x 6 7/16\" (21 x 16...       2012-10-03   \n",
       "113719  page (each, approx.): 8 1/4 x 6 7/16\" (21 x 16...       2012-10-03   \n",
       "122569           7 1/2 x 1 15/16 x 2 3/4\" (19 x 5 x 7 cm)       2016-06-06   \n",
       "125551                                                NaN       2015-10-19   \n",
       "\n",
       "                                                Credit Catalogue  \\\n",
       "3884                            Gift of Mourlot Frères         Y   \n",
       "4440                                 Given anonymously         Y   \n",
       "5244                                          Purchase         Y   \n",
       "5247                         Gift of James Thrall Soby         Y   \n",
       "5251                             Gift of Curt Valentin         N   \n",
       "...                                                ...       ...   \n",
       "113717  Committee on Prints and Illustrated Books Fund         N   \n",
       "113718  Committee on Prints and Illustrated Books Fund         N   \n",
       "113719  Committee on Prints and Illustrated Books Fund         N   \n",
       "122569         Gift of Almine and Bernard Ruiz-Picasso         Y   \n",
       "125551                     Gift of Alfred H. Barr, Jr.         Y   \n",
       "\n",
       "                        Department  ... Depth (cm) Weight (kg)  Duration (s)  \\\n",
       "3884         Architecture & Design  ...        NaN         NaN           NaN   \n",
       "4440         Architecture & Design  ...        NaN         NaN           NaN   \n",
       "5244         Architecture & Design  ...        NaN         NaN           NaN   \n",
       "5247         Architecture & Design  ...        NaN         NaN           NaN   \n",
       "5251         Architecture & Design  ...        NaN         NaN           NaN   \n",
       "...                            ...  ...        ...         ...           ...   \n",
       "113717  Prints & Illustrated Books  ...        NaN         NaN           NaN   \n",
       "113718  Prints & Illustrated Books  ...        NaN         NaN           NaN   \n",
       "113719  Prints & Illustrated Books  ...        NaN         NaN           NaN   \n",
       "122569        Painting & Sculpture  ...        7.0         NaN           NaN   \n",
       "125551       Architecture & Design  ...        NaN         NaN           NaN   \n",
       "\n",
       "        Clean_Date           Name  Nationality  Gender  \\\n",
       "3884          1959  Pablo Picasso      Spanish    Male   \n",
       "4440          1951  Pablo Picasso      Spanish    Male   \n",
       "5244          1951  Pablo Picasso      Spanish    Male   \n",
       "5247          1965  Pablo Picasso      Spanish    Male   \n",
       "5251          1952  Pablo Picasso      Spanish    Male   \n",
       "...            ...            ...          ...     ...   \n",
       "113717        1971  Pablo Picasso      Spanish    Male   \n",
       "113718        1971  Pablo Picasso      Spanish    Male   \n",
       "113719        1971  Pablo Picasso      Spanish    Male   \n",
       "122569        1947  Pablo Picasso      Spanish    Male   \n",
       "125551        1951  Pablo Picasso      Spanish    Male   \n",
       "\n",
       "                          Birth_Year                    Death_Year  \\\n",
       "3884   1970-01-01 00:00:00.000001881 1970-01-01 00:00:00.000001973   \n",
       "4440   1970-01-01 00:00:00.000001881 1970-01-01 00:00:00.000001973   \n",
       "5244   1970-01-01 00:00:00.000001881 1970-01-01 00:00:00.000001973   \n",
       "5247   1970-01-01 00:00:00.000001881 1970-01-01 00:00:00.000001973   \n",
       "5251   1970-01-01 00:00:00.000001881 1970-01-01 00:00:00.000001973   \n",
       "...                              ...                           ...   \n",
       "113717 1970-01-01 00:00:00.000001881 1970-01-01 00:00:00.000001973   \n",
       "113718 1970-01-01 00:00:00.000001881 1970-01-01 00:00:00.000001973   \n",
       "113719 1970-01-01 00:00:00.000001881 1970-01-01 00:00:00.000001973   \n",
       "122569 1970-01-01 00:00:00.000001881 1970-01-01 00:00:00.000001973   \n",
       "125551 1970-01-01 00:00:00.000001881 1970-01-01 00:00:00.000001973   \n",
       "\n",
       "        Acquisition_Year  \n",
       "3884              1960.0  \n",
       "4440              1968.0  \n",
       "5244              1953.0  \n",
       "5247              1966.0  \n",
       "5251              1953.0  \n",
       "...                  ...  \n",
       "113717            2012.0  \n",
       "113718            2012.0  \n",
       "113719            2012.0  \n",
       "122569            2016.0  \n",
       "125551            2015.0  \n",
       "\n",
       "[1310 rows x 27 columns]"
      ]
     },
     "execution_count": 54,
     "metadata": {},
     "output_type": "execute_result"
    }
   ],
   "source": [
    "sub = str(input(\"pls input the artist name: \"))\n",
    "df_test = df[(df.Name == sub)]\n",
    "print(f\"The artist name is {sub}. The related data is as below \")\n",
    "df_test"
   ]
  },
  {
   "cell_type": "code",
   "execution_count": null,
   "metadata": {},
   "outputs": [],
   "source": []
  }
 ],
 "metadata": {
  "kernelspec": {
   "display_name": "Python 3",
   "language": "python",
   "name": "python3"
  },
  "language_info": {
   "codemirror_mode": {
    "name": "ipython",
    "version": 3
   },
   "file_extension": ".py",
   "mimetype": "text/x-python",
   "name": "python",
   "nbconvert_exporter": "python",
   "pygments_lexer": "ipython3",
   "version": "3.7.4"
  }
 },
 "nbformat": 4,
 "nbformat_minor": 2
}
